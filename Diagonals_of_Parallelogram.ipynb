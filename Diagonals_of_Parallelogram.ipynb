{
  "nbformat": 4,
  "nbformat_minor": 0,
  "metadata": {
    "colab": {
      "name": "Diagonals_of_Parallelogram.ipynb",
      "provenance": [],
      "collapsed_sections": []
    },
    "kernelspec": {
      "name": "python3",
      "display_name": "Python 3"
    },
    "language_info": {
      "name": "python"
    }
  },
  "cells": [
    {
      "cell_type": "code",
      "metadata": {
        "colab": {
          "base_uri": "https://localhost:8080/",
          "height": 306
        },
        "id": "MV3Iazwf3ozC",
        "outputId": "05563c93-19cb-4dbf-9683-01af0e840500"
      },
      "source": [
        "%matplotlib inline\n",
        "import matplotlib.pyplot as plt\n",
        "import math \n",
        "import numpy as np\n",
        "alphabet = range(0, 25)\n",
        "firstLine = [letter + 65 for letter in alphabet]\n",
        "secondLine = [letter + 97 for letter in alphabet]\n",
        "#U=0\n",
        "a=10\n",
        "x = [-a,a]\n",
        "y = [0,0]\n",
        "#plotting\n",
        "plt.plot(x, y,color='Grey',label = 'V=0', linewidth=3)\n",
        "#V=0\n",
        "b=10\n",
        "x = [0,0]\n",
        "y = [-b,b]\n",
        "#plotting\n",
        "plt.plot(x,y,color='Blue',label ='U=0' ,linewidth=3)\n",
        "#U=a\n",
        "x = [a/2,a/2]\n",
        "y = [-b,b]\n",
        "#plotting\n",
        "plt.plot(x,y,color='Red',label = 'U=a' ,linewidth=3)\n",
        "#V=b\n",
        "x = [-b,b]\n",
        "y = [a/2,a/2]\n",
        "plt.plot(x,y, color='green' , label = 'V=b', linewidth=3)\n",
        "#A\n",
        "x = [0]\n",
        "y = [0]\n",
        "#plotting\n",
        "plt.plot(x,y, color='black', label = 'A', linewidth=2)\n",
        "#B\n",
        "x = [a]\n",
        "y = [0]\n",
        "#plotting\n",
        "plt.plot(x,y, color='black', label = 'B', linewidth=2)\n",
        "#C\n",
        "x = [a]\n",
        "y = [b]\n",
        "#plotting\n",
        "plt.plot(x,y, color='black', label = 'C', linewidth=2)\n",
        "#D\n",
        "x = [0]\n",
        "y = [b]\n",
        "#plotting\n",
        "plt.plot(x,y, color='black', label = 'D', linewidth=2)\n",
        "#diagonal AC\n",
        "x = [5,0]\n",
        "y = [5,0]\n",
        "plt.plot(x,y, color='green' , label = 'AC', linewidth=3)\n",
        "#diagonal BD\n",
        "x = [5,0]\n",
        "y = [0,5]\n",
        "plt.plot(x,y, color='green' , label = 'BD', linewidth=3)\n",
        "\n",
        "plt.annotate('A(0,0)', (0,0))\n",
        "plt.annotate('B(a,0)', (5,0))\n",
        "plt.annotate('C(a,b)', (5,5))\n",
        "plt.annotate('D(0,b)', (0,5))\n",
        "\n",
        "plt.annotate('V=0', (b,0))\n",
        "plt.annotate('U=0', (0,b))\n",
        "plt.annotate('U=a', (a/2,b))\n",
        "plt.annotate('V=b', (b,a/2))\n",
        "plt.ylabel('$V-axis$')\n",
        "plt.xlabel('$U-axis$')\n",
        "plt.grid()\n",
        "plt.xlim(-2,10)\n",
        "plt.ylim(-2,10)\n"
      ],
      "execution_count": null,
      "outputs": [
        {
          "output_type": "execute_result",
          "data": {
            "text/plain": [
              "(-2.0, 10.0)"
            ]
          },
          "metadata": {},
          "execution_count": 60
        },
        {
          "output_type": "display_data",
          "data": {
            "image/png": "[encoded data removed]",
            "text/plain": [
              "<Figure size 432x288 with 1 Axes>"
            ]
          },
          "metadata": {
            "needs_background": "light"
          }
        }
      ]
    },
    {
      "cell_type": "code",
      "metadata": {
        "id": "X59hTivjCqRW"
      },
      "source": [
        ""
      ],
      "execution_count": null,
      "outputs": []
    }
  ]
}